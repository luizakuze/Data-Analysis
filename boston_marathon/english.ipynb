{
  "cells": [
    {
      "cell_type": "markdown",
      "metadata": {
        "id": "BYpMjFan6Lbw"
      },
      "source": [
        "# Study of running time in minutes per kilometer (pace) 📚 🏃\n",
        "> Author: Luiza Kuze <br> Date: 02/12/2023"
      ]
    },
    {
      "cell_type": "markdown",
      "metadata": {},
      "source": [
        "## About dataset:\n",
        "\n",
        "- Data is from the 2023 Boston Marathon\n",
        "- **Source:** `https://data.scorenetwork.org/running/boston_marathon_2023.html`"
      ]
    },
    {
      "cell_type": "code",
      "execution_count": 1,
      "metadata": {
        "id": "xo5G1fAW5A3T"
      },
      "outputs": [],
      "source": [
        "#@title Importing libraries\n",
        "import pandas as pd\n",
        "import numpy as np\n",
        "import matplotlib.pyplot as plt\n",
        "import matplotlib.patches as patches\n",
        "import seaborn as sns\n",
        "plt.style.use('ggplot')"
      ]
    },
    {
      "cell_type": "code",
      "execution_count": 2,
      "metadata": {
        "id": "-fk_jZkicmX4"
      },
      "outputs": [],
      "source": [
        "#@title Reading the file\n",
        "\n",
        "uri = \"./boston_marathon_2023.csv\"\n",
        "marathon = pd.read_csv(uri)"
      ]
    },
    {
      "cell_type": "markdown",
      "metadata": {
        "id": "wzGUMS1XWduK"
      },
      "source": [
        "## Dataset Structure Analysis 📖"
      ]
    },
    {
      "cell_type": "code",
      "execution_count": 3,
      "metadata": {
        "colab": {
          "base_uri": "https://localhost:8080/"
        },
        "id": "TIeQxJFceNX6",
        "outputId": "3660a75f-2aa9-4b90-f971-cbbdd1f90d83"
      },
      "outputs": [
        {
          "data": {
            "text/plain": [
              "False"
            ]
          },
          "execution_count": 3,
          "metadata": {},
          "output_type": "execute_result"
        }
      ],
      "source": [
        "#@title Checking for duplications\n",
        "\n",
        "marathon.duplicated().any()"
      ]
    },
    {
      "cell_type": "code",
      "execution_count": 4,
      "metadata": {
        "colab": {
          "base_uri": "https://localhost:8080/",
          "height": 313
        },
        "id": "sBjO3aj-52UQ",
        "outputId": "5311c4e7-dd79-45e4-fe2f-7bc438633bf9"
      },
      "outputs": [
        {
          "data": {
            "text/html": [
              "<div>\n",
              "<style scoped>\n",
              "    .dataframe tbody tr th:only-of-type {\n",
              "        vertical-align: middle;\n",
              "    }\n",
              "\n",
              "    .dataframe tbody tr th {\n",
              "        vertical-align: top;\n",
              "    }\n",
              "\n",
              "    .dataframe thead th {\n",
              "        text-align: right;\n",
              "    }\n",
              "</style>\n",
              "<table border=\"1\" class=\"dataframe\">\n",
              "  <thead>\n",
              "    <tr style=\"text-align: right;\">\n",
              "      <th></th>\n",
              "      <th>division_age</th>\n",
              "      <th>overall_position</th>\n",
              "      <th>gender_position</th>\n",
              "      <th>age_group_position</th>\n",
              "      <th>name</th>\n",
              "      <th>team</th>\n",
              "      <th>bib_number</th>\n",
              "      <th>half_marathon_time</th>\n",
              "      <th>net_marathon_time</th>\n",
              "      <th>gross_marathon_time</th>\n",
              "      <th>gender</th>\n",
              "      <th>half_marathon_time_seconds</th>\n",
              "      <th>net_marathon_time_seconds</th>\n",
              "      <th>gross_marathon_time_seconds</th>\n",
              "      <th>net_marathon_time_minutes</th>\n",
              "    </tr>\n",
              "  </thead>\n",
              "  <tbody>\n",
              "    <tr>\n",
              "      <th>0</th>\n",
              "      <td>18-39</td>\n",
              "      <td>1</td>\n",
              "      <td>1</td>\n",
              "      <td>1</td>\n",
              "      <td>Chebet, Evans</td>\n",
              "      <td>Team–</td>\n",
              "      <td>1</td>\n",
              "      <td>1H 2M 20S</td>\n",
              "      <td>2H 5M 54S</td>\n",
              "      <td>2H 5M 54S</td>\n",
              "      <td>M</td>\n",
              "      <td>3740.0</td>\n",
              "      <td>7554</td>\n",
              "      <td>7554</td>\n",
              "      <td>125.900000</td>\n",
              "    </tr>\n",
              "    <tr>\n",
              "      <th>1</th>\n",
              "      <td>18-39</td>\n",
              "      <td>2</td>\n",
              "      <td>2</td>\n",
              "      <td>2</td>\n",
              "      <td>Geay, Gabriel</td>\n",
              "      <td>Team–</td>\n",
              "      <td>3</td>\n",
              "      <td>1H 2M 20S</td>\n",
              "      <td>2H 6M 4S</td>\n",
              "      <td>2H 6M 4S</td>\n",
              "      <td>M</td>\n",
              "      <td>3740.0</td>\n",
              "      <td>7564</td>\n",
              "      <td>7564</td>\n",
              "      <td>126.066667</td>\n",
              "    </tr>\n",
              "    <tr>\n",
              "      <th>2</th>\n",
              "      <td>18-39</td>\n",
              "      <td>3</td>\n",
              "      <td>3</td>\n",
              "      <td>3</td>\n",
              "      <td>Kipruto, Benson</td>\n",
              "      <td>Team–</td>\n",
              "      <td>5</td>\n",
              "      <td>1H 2M 19S</td>\n",
              "      <td>2H 6M 6S</td>\n",
              "      <td>2H 6M 6S</td>\n",
              "      <td>M</td>\n",
              "      <td>3739.0</td>\n",
              "      <td>7566</td>\n",
              "      <td>7566</td>\n",
              "      <td>126.100000</td>\n",
              "    </tr>\n",
              "    <tr>\n",
              "      <th>3</th>\n",
              "      <td>18-39</td>\n",
              "      <td>4</td>\n",
              "      <td>4</td>\n",
              "      <td>4</td>\n",
              "      <td>Korir, Albert</td>\n",
              "      <td>Team–</td>\n",
              "      <td>19</td>\n",
              "      <td>1H 2M 20S</td>\n",
              "      <td>2H 8M 1S</td>\n",
              "      <td>2H 8M 1S</td>\n",
              "      <td>M</td>\n",
              "      <td>3740.0</td>\n",
              "      <td>7681</td>\n",
              "      <td>7681</td>\n",
              "      <td>128.016667</td>\n",
              "    </tr>\n",
              "    <tr>\n",
              "      <th>4</th>\n",
              "      <td>18-39</td>\n",
              "      <td>5</td>\n",
              "      <td>5</td>\n",
              "      <td>5</td>\n",
              "      <td>Talbi, Zouhair</td>\n",
              "      <td>Team–</td>\n",
              "      <td>31</td>\n",
              "      <td>1H 2M 20S</td>\n",
              "      <td>2H 8M 35S</td>\n",
              "      <td>2H 8M 35S</td>\n",
              "      <td>M</td>\n",
              "      <td>3740.0</td>\n",
              "      <td>7715</td>\n",
              "      <td>7715</td>\n",
              "      <td>128.583333</td>\n",
              "    </tr>\n",
              "  </tbody>\n",
              "</table>\n",
              "</div>"
            ],
            "text/plain": [
              "  division_age  overall_position  gender_position  age_group_position  \\\n",
              "0        18-39                 1                1                   1   \n",
              "1        18-39                 2                2                   2   \n",
              "2        18-39                 3                3                   3   \n",
              "3        18-39                 4                4                   4   \n",
              "4        18-39                 5                5                   5   \n",
              "\n",
              "              name   team bib_number half_marathon_time net_marathon_time  \\\n",
              "0    Chebet, Evans  Team–          1          1H 2M 20S         2H 5M 54S   \n",
              "1    Geay, Gabriel  Team–          3          1H 2M 20S          2H 6M 4S   \n",
              "2  Kipruto, Benson  Team–          5          1H 2M 19S          2H 6M 6S   \n",
              "3    Korir, Albert  Team–         19          1H 2M 20S          2H 8M 1S   \n",
              "4   Talbi, Zouhair  Team–         31          1H 2M 20S         2H 8M 35S   \n",
              "\n",
              "  gross_marathon_time gender  half_marathon_time_seconds  \\\n",
              "0           2H 5M 54S      M                      3740.0   \n",
              "1            2H 6M 4S      M                      3740.0   \n",
              "2            2H 6M 6S      M                      3739.0   \n",
              "3            2H 8M 1S      M                      3740.0   \n",
              "4           2H 8M 35S      M                      3740.0   \n",
              "\n",
              "   net_marathon_time_seconds  gross_marathon_time_seconds  \\\n",
              "0                       7554                         7554   \n",
              "1                       7564                         7564   \n",
              "2                       7566                         7566   \n",
              "3                       7681                         7681   \n",
              "4                       7715                         7715   \n",
              "\n",
              "   net_marathon_time_minutes  \n",
              "0                 125.900000  \n",
              "1                 126.066667  \n",
              "2                 126.100000  \n",
              "3                 128.016667  \n",
              "4                 128.583333  "
            ]
          },
          "execution_count": 4,
          "metadata": {},
          "output_type": "execute_result"
        }
      ],
      "source": [
        "#@title Renaming columns\n",
        "\n",
        "marathon.columns = [\"division_age\", \"overall_position\", \"gender_position\", \"age_group_position\", \"name\", \"team\", \"bib_number\", \"half_marathon_time\", \"net_marathon_time\", \"gross_marathon_time\", \"gender\", \"half_marathon_time_seconds\", \"net_marathon_time_seconds\", \"gross_marathon_time_seconds\", \"net_marathon_time_minutes\"]\n",
        "marathon.head()"
      ]
    },
    {
      "cell_type": "code",
      "execution_count": 5,
      "metadata": {
        "colab": {
          "base_uri": "https://localhost:8080/",
          "height": 313
        },
        "id": "sRdJ8QmbXll3",
        "outputId": "252b9965-7d66-4f3e-c241-3126abb7cb02"
      },
      "outputs": [
        {
          "data": {
            "text/html": [
              "<div>\n",
              "<style scoped>\n",
              "    .dataframe tbody tr th:only-of-type {\n",
              "        vertical-align: middle;\n",
              "    }\n",
              "\n",
              "    .dataframe tbody tr th {\n",
              "        vertical-align: top;\n",
              "    }\n",
              "\n",
              "    .dataframe thead th {\n",
              "        text-align: right;\n",
              "    }\n",
              "</style>\n",
              "<table border=\"1\" class=\"dataframe\">\n",
              "  <thead>\n",
              "    <tr style=\"text-align: right;\">\n",
              "      <th></th>\n",
              "      <th>division_age</th>\n",
              "      <th>overall_position</th>\n",
              "      <th>gender_position</th>\n",
              "      <th>age_group_position</th>\n",
              "      <th>name</th>\n",
              "      <th>team</th>\n",
              "      <th>bib_number</th>\n",
              "      <th>half_marathon_time</th>\n",
              "      <th>net_marathon_time</th>\n",
              "      <th>gross_marathon_time</th>\n",
              "      <th>gender</th>\n",
              "      <th>half_marathon_time_seconds</th>\n",
              "      <th>net_marathon_time_seconds</th>\n",
              "      <th>gross_marathon_time_seconds</th>\n",
              "      <th>net_marathon_time_minutes</th>\n",
              "      <th>pace</th>\n",
              "    </tr>\n",
              "  </thead>\n",
              "  <tbody>\n",
              "    <tr>\n",
              "      <th>0</th>\n",
              "      <td>18-39</td>\n",
              "      <td>1</td>\n",
              "      <td>1</td>\n",
              "      <td>1</td>\n",
              "      <td>Chebet, Evans</td>\n",
              "      <td>Team–</td>\n",
              "      <td>1</td>\n",
              "      <td>1H 2M 20S</td>\n",
              "      <td>2H 5M 54S</td>\n",
              "      <td>2H 5M 54S</td>\n",
              "      <td>M</td>\n",
              "      <td>3740.0</td>\n",
              "      <td>7554</td>\n",
              "      <td>7554</td>\n",
              "      <td>125.900000</td>\n",
              "      <td>2.997619</td>\n",
              "    </tr>\n",
              "    <tr>\n",
              "      <th>1</th>\n",
              "      <td>18-39</td>\n",
              "      <td>2</td>\n",
              "      <td>2</td>\n",
              "      <td>2</td>\n",
              "      <td>Geay, Gabriel</td>\n",
              "      <td>Team–</td>\n",
              "      <td>3</td>\n",
              "      <td>1H 2M 20S</td>\n",
              "      <td>2H 6M 4S</td>\n",
              "      <td>2H 6M 4S</td>\n",
              "      <td>M</td>\n",
              "      <td>3740.0</td>\n",
              "      <td>7564</td>\n",
              "      <td>7564</td>\n",
              "      <td>126.066667</td>\n",
              "      <td>3.001587</td>\n",
              "    </tr>\n",
              "    <tr>\n",
              "      <th>2</th>\n",
              "      <td>18-39</td>\n",
              "      <td>3</td>\n",
              "      <td>3</td>\n",
              "      <td>3</td>\n",
              "      <td>Kipruto, Benson</td>\n",
              "      <td>Team–</td>\n",
              "      <td>5</td>\n",
              "      <td>1H 2M 19S</td>\n",
              "      <td>2H 6M 6S</td>\n",
              "      <td>2H 6M 6S</td>\n",
              "      <td>M</td>\n",
              "      <td>3739.0</td>\n",
              "      <td>7566</td>\n",
              "      <td>7566</td>\n",
              "      <td>126.100000</td>\n",
              "      <td>3.002381</td>\n",
              "    </tr>\n",
              "    <tr>\n",
              "      <th>3</th>\n",
              "      <td>18-39</td>\n",
              "      <td>4</td>\n",
              "      <td>4</td>\n",
              "      <td>4</td>\n",
              "      <td>Korir, Albert</td>\n",
              "      <td>Team–</td>\n",
              "      <td>19</td>\n",
              "      <td>1H 2M 20S</td>\n",
              "      <td>2H 8M 1S</td>\n",
              "      <td>2H 8M 1S</td>\n",
              "      <td>M</td>\n",
              "      <td>3740.0</td>\n",
              "      <td>7681</td>\n",
              "      <td>7681</td>\n",
              "      <td>128.016667</td>\n",
              "      <td>3.048016</td>\n",
              "    </tr>\n",
              "    <tr>\n",
              "      <th>4</th>\n",
              "      <td>18-39</td>\n",
              "      <td>5</td>\n",
              "      <td>5</td>\n",
              "      <td>5</td>\n",
              "      <td>Talbi, Zouhair</td>\n",
              "      <td>Team–</td>\n",
              "      <td>31</td>\n",
              "      <td>1H 2M 20S</td>\n",
              "      <td>2H 8M 35S</td>\n",
              "      <td>2H 8M 35S</td>\n",
              "      <td>M</td>\n",
              "      <td>3740.0</td>\n",
              "      <td>7715</td>\n",
              "      <td>7715</td>\n",
              "      <td>128.583333</td>\n",
              "      <td>3.061508</td>\n",
              "    </tr>\n",
              "  </tbody>\n",
              "</table>\n",
              "</div>"
            ],
            "text/plain": [
              "  division_age  overall_position  gender_position  age_group_position  \\\n",
              "0        18-39                 1                1                   1   \n",
              "1        18-39                 2                2                   2   \n",
              "2        18-39                 3                3                   3   \n",
              "3        18-39                 4                4                   4   \n",
              "4        18-39                 5                5                   5   \n",
              "\n",
              "              name   team bib_number half_marathon_time net_marathon_time  \\\n",
              "0    Chebet, Evans  Team–          1          1H 2M 20S         2H 5M 54S   \n",
              "1    Geay, Gabriel  Team–          3          1H 2M 20S          2H 6M 4S   \n",
              "2  Kipruto, Benson  Team–          5          1H 2M 19S          2H 6M 6S   \n",
              "3    Korir, Albert  Team–         19          1H 2M 20S          2H 8M 1S   \n",
              "4   Talbi, Zouhair  Team–         31          1H 2M 20S         2H 8M 35S   \n",
              "\n",
              "  gross_marathon_time gender  half_marathon_time_seconds  \\\n",
              "0           2H 5M 54S      M                      3740.0   \n",
              "1            2H 6M 4S      M                      3740.0   \n",
              "2            2H 6M 6S      M                      3739.0   \n",
              "3            2H 8M 1S      M                      3740.0   \n",
              "4           2H 8M 35S      M                      3740.0   \n",
              "\n",
              "   net_marathon_time_seconds  gross_marathon_time_seconds  \\\n",
              "0                       7554                         7554   \n",
              "1                       7564                         7564   \n",
              "2                       7566                         7566   \n",
              "3                       7681                         7681   \n",
              "4                       7715                         7715   \n",
              "\n",
              "   net_marathon_time_minutes      pace  \n",
              "0                 125.900000  2.997619  \n",
              "1                 126.066667  3.001587  \n",
              "2                 126.100000  3.002381  \n",
              "3                 128.016667  3.048016  \n",
              "4                 128.583333  3.061508  "
            ]
          },
          "execution_count": 5,
          "metadata": {},
          "output_type": "execute_result"
        }
      ],
      "source": [
        "#@title Adding 'Pace' to the table\n",
        "marathon['pace'] = marathon['net_marathon_time_minutes'] / 42\n",
        "marathon.head()"
      ]
    },
    {
      "cell_type": "code",
      "execution_count": 6,
      "metadata": {
        "colab": {
          "base_uri": "https://localhost:8080/"
        },
        "id": "B3GQCVFZiMyy",
        "outputId": "d899143a-6ef6-4c76-d9da-b3cb1e9196ba"
      },
      "outputs": [
        {
          "name": "stdout",
          "output_type": "stream",
          "text": [
            "<class 'pandas.core.frame.DataFrame'>\n",
            "RangeIndex: 26598 entries, 0 to 26597\n",
            "Data columns (total 16 columns):\n",
            " #   Column                       Non-Null Count  Dtype  \n",
            "---  ------                       --------------  -----  \n",
            " 0   division_age                 26598 non-null  object \n",
            " 1   overall_position             26598 non-null  int64  \n",
            " 2   gender_position              26598 non-null  int64  \n",
            " 3   age_group_position           26598 non-null  int64  \n",
            " 4   name                         26598 non-null  object \n",
            " 5   team                         26598 non-null  object \n",
            " 6   bib_number                   26598 non-null  object \n",
            " 7   half_marathon_time           26526 non-null  object \n",
            " 8   net_marathon_time            26598 non-null  object \n",
            " 9   gross_marathon_time          26598 non-null  object \n",
            " 10  gender                       26598 non-null  object \n",
            " 11  half_marathon_time_seconds   26526 non-null  float64\n",
            " 12  net_marathon_time_seconds    26598 non-null  int64  \n",
            " 13  gross_marathon_time_seconds  26598 non-null  int64  \n",
            " 14  net_marathon_time_minutes    26598 non-null  float64\n",
            " 15  pace                         26598 non-null  float64\n",
            "dtypes: float64(3), int64(5), object(8)\n",
            "memory usage: 3.2+ MB\n"
          ]
        }
      ],
      "source": [
        "#@title General overview\n",
        "\n",
        "marathon.info()"
      ]
    },
    {
      "cell_type": "markdown",
      "metadata": {
        "id": "oo2dZWNsdAX-"
      },
      "source": [
        "## Pace and Gender Analysis 👩‍🦱👨‍🦰\n",
        "### Motivation\n",
        "> - How does pace differ between men and women?\n",
        "> - How does the average pace vary across different age groups for men and women?\n",
        "> - What is the percentage distribution of men and women in the marathon?\n",
        "> - How many individuals are faster of the opposite gender?"
      ]
    },
    {
      "cell_type": "code",
      "execution_count": 7,
      "metadata": {
        "id": "xHwgFI1pWg5Q"
      },
      "outputs": [],
      "source": [
        "#@title Dividing the population into 2 samples\n",
        "\n",
        "males = marathon[marathon['gender'] == 'M'].reset_index()\n",
        "females = marathon[marathon['gender'] == 'W'].reset_index()"
      ]
    },
    {
      "cell_type": "code",
      "execution_count": 8,
      "metadata": {
        "colab": {
          "base_uri": "https://localhost:8080/",
          "height": 216
        },
        "id": "8TgIN0-Xc6xe",
        "outputId": "4b613282-06ea-46e9-f149-e47f936953be"
      },
      "outputs": [
        {
          "data": {
            "text/html": [
              "<div>\n",
              "<style scoped>\n",
              "    .dataframe tbody tr th:only-of-type {\n",
              "        vertical-align: middle;\n",
              "    }\n",
              "\n",
              "    .dataframe tbody tr th {\n",
              "        vertical-align: top;\n",
              "    }\n",
              "\n",
              "    .dataframe thead th {\n",
              "        text-align: right;\n",
              "    }\n",
              "</style>\n",
              "<table border=\"1\" class=\"dataframe\">\n",
              "  <thead>\n",
              "    <tr style=\"text-align: right;\">\n",
              "      <th></th>\n",
              "      <th>index</th>\n",
              "      <th>division_age</th>\n",
              "      <th>overall_position</th>\n",
              "      <th>gender_position</th>\n",
              "      <th>age_group_position</th>\n",
              "      <th>name</th>\n",
              "      <th>team</th>\n",
              "      <th>bib_number</th>\n",
              "      <th>half_marathon_time</th>\n",
              "      <th>net_marathon_time</th>\n",
              "      <th>gross_marathon_time</th>\n",
              "      <th>gender</th>\n",
              "      <th>half_marathon_time_seconds</th>\n",
              "      <th>net_marathon_time_seconds</th>\n",
              "      <th>gross_marathon_time_seconds</th>\n",
              "      <th>net_marathon_time_minutes</th>\n",
              "      <th>pace</th>\n",
              "    </tr>\n",
              "  </thead>\n",
              "  <tbody>\n",
              "    <tr>\n",
              "      <th>0</th>\n",
              "      <td>0</td>\n",
              "      <td>18-39</td>\n",
              "      <td>1</td>\n",
              "      <td>1</td>\n",
              "      <td>1</td>\n",
              "      <td>Chebet, Evans</td>\n",
              "      <td>Team–</td>\n",
              "      <td>1</td>\n",
              "      <td>1H 2M 20S</td>\n",
              "      <td>2H 5M 54S</td>\n",
              "      <td>2H 5M 54S</td>\n",
              "      <td>M</td>\n",
              "      <td>3740.0</td>\n",
              "      <td>7554</td>\n",
              "      <td>7554</td>\n",
              "      <td>125.900000</td>\n",
              "      <td>2.997619</td>\n",
              "    </tr>\n",
              "    <tr>\n",
              "      <th>1</th>\n",
              "      <td>1</td>\n",
              "      <td>18-39</td>\n",
              "      <td>2</td>\n",
              "      <td>2</td>\n",
              "      <td>2</td>\n",
              "      <td>Geay, Gabriel</td>\n",
              "      <td>Team–</td>\n",
              "      <td>3</td>\n",
              "      <td>1H 2M 20S</td>\n",
              "      <td>2H 6M 4S</td>\n",
              "      <td>2H 6M 4S</td>\n",
              "      <td>M</td>\n",
              "      <td>3740.0</td>\n",
              "      <td>7564</td>\n",
              "      <td>7564</td>\n",
              "      <td>126.066667</td>\n",
              "      <td>3.001587</td>\n",
              "    </tr>\n",
              "    <tr>\n",
              "      <th>2</th>\n",
              "      <td>2</td>\n",
              "      <td>18-39</td>\n",
              "      <td>3</td>\n",
              "      <td>3</td>\n",
              "      <td>3</td>\n",
              "      <td>Kipruto, Benson</td>\n",
              "      <td>Team–</td>\n",
              "      <td>5</td>\n",
              "      <td>1H 2M 19S</td>\n",
              "      <td>2H 6M 6S</td>\n",
              "      <td>2H 6M 6S</td>\n",
              "      <td>M</td>\n",
              "      <td>3739.0</td>\n",
              "      <td>7566</td>\n",
              "      <td>7566</td>\n",
              "      <td>126.100000</td>\n",
              "      <td>3.002381</td>\n",
              "    </tr>\n",
              "  </tbody>\n",
              "</table>\n",
              "</div>"
            ],
            "text/plain": [
              "   index division_age  overall_position  gender_position  age_group_position  \\\n",
              "0      0        18-39                 1                1                   1   \n",
              "1      1        18-39                 2                2                   2   \n",
              "2      2        18-39                 3                3                   3   \n",
              "\n",
              "              name   team bib_number half_marathon_time net_marathon_time  \\\n",
              "0    Chebet, Evans  Team–          1          1H 2M 20S         2H 5M 54S   \n",
              "1    Geay, Gabriel  Team–          3          1H 2M 20S          2H 6M 4S   \n",
              "2  Kipruto, Benson  Team–          5          1H 2M 19S          2H 6M 6S   \n",
              "\n",
              "  gross_marathon_time gender  half_marathon_time_seconds  \\\n",
              "0           2H 5M 54S      M                      3740.0   \n",
              "1            2H 6M 4S      M                      3740.0   \n",
              "2            2H 6M 6S      M                      3739.0   \n",
              "\n",
              "   net_marathon_time_seconds  gross_marathon_time_seconds  \\\n",
              "0                       7554                         7554   \n",
              "1                       7564                         7564   \n",
              "2                       7566                         7566   \n",
              "\n",
              "   net_marathon_time_minutes      pace  \n",
              "0                 125.900000  2.997619  \n",
              "1                 126.066667  3.001587  \n",
              "2                 126.100000  3.002381  "
            ]
          },
          "execution_count": 8,
          "metadata": {},
          "output_type": "execute_result"
        }
      ],
      "source": [
        "#@title 1st Sample - Men\n",
        "males.head(3)"
      ]
    },
    {
      "cell_type": "code",
      "execution_count": 9,
      "metadata": {
        "colab": {
          "base_uri": "https://localhost:8080/",
          "height": 216
        },
        "id": "RVL_GzIIdCfj",
        "outputId": "3b5eb1d4-8bc9-42f2-d0eb-18487d6d5edc"
      },
      "outputs": [
        {
          "data": {
            "text/html": [
              "<div>\n",
              "<style scoped>\n",
              "    .dataframe tbody tr th:only-of-type {\n",
              "        vertical-align: middle;\n",
              "    }\n",
              "\n",
              "    .dataframe tbody tr th {\n",
              "        vertical-align: top;\n",
              "    }\n",
              "\n",
              "    .dataframe thead th {\n",
              "        text-align: right;\n",
              "    }\n",
              "</style>\n",
              "<table border=\"1\" class=\"dataframe\">\n",
              "  <thead>\n",
              "    <tr style=\"text-align: right;\">\n",
              "      <th></th>\n",
              "      <th>index</th>\n",
              "      <th>division_age</th>\n",
              "      <th>overall_position</th>\n",
              "      <th>gender_position</th>\n",
              "      <th>age_group_position</th>\n",
              "      <th>name</th>\n",
              "      <th>team</th>\n",
              "      <th>bib_number</th>\n",
              "      <th>half_marathon_time</th>\n",
              "      <th>net_marathon_time</th>\n",
              "      <th>gross_marathon_time</th>\n",
              "      <th>gender</th>\n",
              "      <th>half_marathon_time_seconds</th>\n",
              "      <th>net_marathon_time_seconds</th>\n",
              "      <th>gross_marathon_time_seconds</th>\n",
              "      <th>net_marathon_time_minutes</th>\n",
              "      <th>pace</th>\n",
              "    </tr>\n",
              "  </thead>\n",
              "  <tbody>\n",
              "    <tr>\n",
              "      <th>0</th>\n",
              "      <td>15175</td>\n",
              "      <td>18-39</td>\n",
              "      <td>36</td>\n",
              "      <td>1</td>\n",
              "      <td>1</td>\n",
              "      <td>Obiri, Hellen</td>\n",
              "      <td>Team–</td>\n",
              "      <td>122</td>\n",
              "      <td>1H 11M 29S</td>\n",
              "      <td>2H 21M 38S</td>\n",
              "      <td>2H 21M 38S</td>\n",
              "      <td>W</td>\n",
              "      <td>4289.0</td>\n",
              "      <td>8498</td>\n",
              "      <td>8498</td>\n",
              "      <td>141.633333</td>\n",
              "      <td>3.372222</td>\n",
              "    </tr>\n",
              "    <tr>\n",
              "      <th>1</th>\n",
              "      <td>15176</td>\n",
              "      <td>18-39</td>\n",
              "      <td>40</td>\n",
              "      <td>2</td>\n",
              "      <td>2</td>\n",
              "      <td>Beriso, Amane</td>\n",
              "      <td>Team–</td>\n",
              "      <td>102</td>\n",
              "      <td>1H 11M 30S</td>\n",
              "      <td>2H 21M 50S</td>\n",
              "      <td>2H 21M 50S</td>\n",
              "      <td>W</td>\n",
              "      <td>4290.0</td>\n",
              "      <td>8510</td>\n",
              "      <td>8510</td>\n",
              "      <td>141.833333</td>\n",
              "      <td>3.376984</td>\n",
              "    </tr>\n",
              "    <tr>\n",
              "      <th>2</th>\n",
              "      <td>15177</td>\n",
              "      <td>18-39</td>\n",
              "      <td>41</td>\n",
              "      <td>3</td>\n",
              "      <td>3</td>\n",
              "      <td>Salpeter, Lonah</td>\n",
              "      <td>Team–</td>\n",
              "      <td>105</td>\n",
              "      <td>1H 11M 29S</td>\n",
              "      <td>2H 21M 57S</td>\n",
              "      <td>2H 21M 57S</td>\n",
              "      <td>W</td>\n",
              "      <td>4289.0</td>\n",
              "      <td>8517</td>\n",
              "      <td>8517</td>\n",
              "      <td>141.950000</td>\n",
              "      <td>3.379762</td>\n",
              "    </tr>\n",
              "  </tbody>\n",
              "</table>\n",
              "</div>"
            ],
            "text/plain": [
              "   index division_age  overall_position  gender_position  age_group_position  \\\n",
              "0  15175        18-39                36                1                   1   \n",
              "1  15176        18-39                40                2                   2   \n",
              "2  15177        18-39                41                3                   3   \n",
              "\n",
              "              name   team bib_number half_marathon_time net_marathon_time  \\\n",
              "0    Obiri, Hellen  Team–        122         1H 11M 29S        2H 21M 38S   \n",
              "1    Beriso, Amane  Team–        102         1H 11M 30S        2H 21M 50S   \n",
              "2  Salpeter, Lonah  Team–        105         1H 11M 29S        2H 21M 57S   \n",
              "\n",
              "  gross_marathon_time gender  half_marathon_time_seconds  \\\n",
              "0          2H 21M 38S      W                      4289.0   \n",
              "1          2H 21M 50S      W                      4290.0   \n",
              "2          2H 21M 57S      W                      4289.0   \n",
              "\n",
              "   net_marathon_time_seconds  gross_marathon_time_seconds  \\\n",
              "0                       8498                         8498   \n",
              "1                       8510                         8510   \n",
              "2                       8517                         8517   \n",
              "\n",
              "   net_marathon_time_minutes      pace  \n",
              "0                 141.633333  3.372222  \n",
              "1                 141.833333  3.376984  \n",
              "2                 141.950000  3.379762  "
            ]
          },
          "execution_count": 9,
          "metadata": {},
          "output_type": "execute_result"
        }
      ],
      "source": [
        "#@title 2nd Sample - Women\n",
        "females.head(3)"
      ]
    },
    {
      "cell_type": "code",
      "execution_count": 10,
      "metadata": {
        "colab": {
          "base_uri": "https://localhost:8080/",
          "height": 444
        },
        "id": "E_AKlsXq3y6E",
        "outputId": "32a671c8-2ec3-46c6-bdeb-f91921ad0a27"
      },
      "outputs": [
        {
          "data": {
            "image/png": "[encoded data removed]",
            "text/plain": [
              "<Figure size 500x500 with 1 Axes>"
            ]
          },
          "metadata": {},
          "output_type": "display_data"
        }
      ],
      "source": [
        "#@title Gender Frequency\n",
        "gender_freq = marathon['gender'].value_counts()\n",
        "\n",
        "# Set up the plot\n",
        "gender_freq.plot(kind='pie', autopct='%1.1f%%', labels=['Male', 'Female'], startangle=90, figsize=(5, 5), colors=['skyblue', 'lightcoral'], wedgeprops=dict(width=0.3))\n",
        "\n",
        "# Plot labels\n",
        "plt.title(\"Gender Frequency\")\n",
        "plt.ylabel(\"\")\n",
        "\n",
        "# Show plot\n",
        "plt.show()\n"
      ]
    },
    {
      "cell_type": "code",
      "execution_count": 11,
      "metadata": {
        "colab": {
          "base_uri": "https://localhost:8080/"
        },
        "id": "pLPDHfrZj00A",
        "outputId": "082e54c9-3cf3-4a1d-b914-e5ea4b0aecd4"
      },
      "outputs": [
        {
          "name": "stdout",
          "output_type": "stream",
          "text": [
            "Average Pace:\n",
            "For everyone: 5.298070209360532\n",
            "For men: 5.057744645799011\n",
            "For women: 5.617333137404485\n"
          ]
        }
      ],
      "source": [
        "#@title Average pace overall and by gender\n",
        "\n",
        "mean_pace_all = marathon['pace'].mean()\n",
        "mean_pace_men = males['pace'].mean()\n",
        "mean_pace_women = females['pace'].mean()\n",
        "\n",
        "print(f'Average Pace:\\nFor everyone: {mean_pace_all}\\nFor men: {mean_pace_men}\\nFor women: {mean_pace_women}')\n",
        "\n"
      ]
    },
    {
      "cell_type": "code",
      "execution_count": 12,
      "metadata": {
        "colab": {
          "base_uri": "https://localhost:8080/",
          "height": 496
        },
        "id": "9nZBWd3IA5nh",
        "outputId": "a3a3de68-087b-4dd5-b9f6-2ada89725594"
      },
      "outputs": [
        {
          "data": {
            "image/png": "[encoded data removed]",
            "text/plain": [
              "<Figure size 800x500 with 1 Axes>"
            ]
          },
          "metadata": {},
          "output_type": "display_data"
        }
      ],
      "source": [
        "#@title Average pace density overall and by gender\n",
        "# Graph setup\n",
        "plt.figure(figsize=(8, 5))\n",
        "sns.set(style=\"whitegrid\")\n",
        "\n",
        "# Density plot of average pace\n",
        "sns.kdeplot(marathon['pace'], color='skyblue', fill=True)\n",
        "\n",
        "# Vertical line for overall mean\n",
        "plt.axvline(mean_pace_all, color='red', linestyle='dashed', linewidth=2, label='Overall Mean')\n",
        "\n",
        "# Mean pace for men\n",
        "plt.axvline(mean_pace_men, color='orange', linestyle='dashed', linewidth=2, label='Men Mean')\n",
        "\n",
        "# Mean pace for women\n",
        "plt.axvline(mean_pace_women, color='purple', linestyle='dashed', linewidth=2, label='Women Mean')\n",
        "\n",
        "# Graph labels\n",
        "plt.title('Pace Density Plot with Vertical Lines')\n",
        "plt.xlabel('Pace')\n",
        "plt.ylabel('Density')\n",
        "plt.legend()\n",
        "\n",
        "# Show plot\n",
        "plt.show()\n"
      ]
    },
    {
      "cell_type": "code",
      "execution_count": 13,
      "metadata": {
        "colab": {
          "base_uri": "https://localhost:8080/"
        },
        "id": "vRFlgBbfqA-M",
        "outputId": "8433d447-03f4-4294-f99a-e6e984ac450e"
      },
      "outputs": [
        {
          "name": "stdout",
          "output_type": "stream",
          "text": [
            "Standard Deviation: 1.0417826762984979\n"
          ]
        }
      ],
      "source": [
        "#@title Standard deviation\n",
        "std_dev_all = marathon['pace'].std()\n",
        "print('Standard Deviation:', std_dev_all)"
      ]
    },
    {
      "cell_type": "code",
      "execution_count": 14,
      "metadata": {
        "colab": {
          "base_uri": "https://localhost:8080/",
          "height": 627
        },
        "id": "pQBfxBVhg9FI",
        "outputId": "672b7751-dc3f-4e86-a8f7-3888fe01d016"
      },
      "outputs": [
        {
          "name": "stderr",
          "output_type": "stream",
          "text": [
            "C:\\Users\\Luiza\\AppData\\Local\\Temp\\ipykernel_1460\\1476249095.py:9: FutureWarning: \n",
            "\n",
            "`shade` is now deprecated in favor of `fill`; setting `fill=True`.\n",
            "This will become an error in seaborn v0.14.0; please update your code.\n",
            "\n",
            "  sns.kdeplot(males['pace'], shade=True, color='skyblue', label='Men')\n",
            "C:\\Users\\Luiza\\AppData\\Local\\Temp\\ipykernel_1460\\1476249095.py:11: FutureWarning: \n",
            "\n",
            "`shade` is now deprecated in favor of `fill`; setting `fill=True`.\n",
            "This will become an error in seaborn v0.14.0; please update your code.\n",
            "\n",
            "  sns.kdeplot(females['pace'], shade=True, color='lightcoral', label='Women')\n"
          ]
        },
        {
          "data": {
            "image/png": "[encoded data removed]",
            "text/plain": [
              "<Figure size 700x400 with 1 Axes>"
            ]
          },
          "metadata": {},
          "output_type": "display_data"
        }
      ],
      "source": [
        "#@title Pace density by gender\n",
        "\n",
        "# Graph setup\n",
        "plt.figure(figsize=(7, 4))\n",
        "sns.set(style=\"whitegrid\")\n",
        "\n",
        "# Density plot\n",
        "## for men\n",
        "sns.kdeplot(males['pace'], shade=True, color='skyblue', label='Men')\n",
        "## for women\n",
        "sns.kdeplot(females['pace'], shade=True, color='lightcoral', label='Women')\n",
        "\n",
        "# Vertical lines with overall mean information\n",
        "plt.axvline(mean_pace_all, color='plum', linestyle='dashed', linewidth=2, label='Overall Mean')\n",
        "plt.axvline((mean_pace_all + std_dev_all), color='purple', linestyle='dashed', linewidth=2, label='Standard Deviation')\n",
        "plt.axvline((mean_pace_all - std_dev_all), color='purple', linestyle='dashed', linewidth=2)\n",
        "\n",
        "# Graph labels\n",
        "plt.title('Density Distribution of Pace by Gender')\n",
        "plt.xlabel('Pace')\n",
        "plt.ylabel('Density')\n",
        "plt.legend()\n",
        "\n",
        "# Show the graph\n",
        "plt.show();\n"
      ]
    },
    {
      "cell_type": "code",
      "execution_count": 15,
      "metadata": {
        "colab": {
          "base_uri": "https://localhost:8080/"
        },
        "id": "zLj1ZQkTWirV",
        "outputId": "979b39e3-a319-4f04-f630-e40a0c94cb46"
      },
      "outputs": [
        {
          "name": "stdout",
          "output_type": "stream",
          "text": [
            "Total number of men: 15175 and Total number of women: 11423\n",
            "\n",
            "Men with pace less than women: 10184 (out of 11423 men)\n",
            "Women with pace less than men: 1239 (out of 11423 women)\n"
          ]
        }
      ],
      "source": [
        "#@title Count of individuals with the lowest pace by gender\n",
        "\n",
        "## getting the same number of elements for men\n",
        "tm_men = males.head(len(females))\n",
        "\n",
        "# men with pace less than women\n",
        "men_pace_less_than_women = (tm_men['pace'] < females['pace']).sum()\n",
        "\n",
        "# women with pace less than men\n",
        "women_pace_less_than_men = (females['pace'] < tm_men['pace']).sum()\n",
        "\n",
        "print(f'Total number of men: {len(males)} and Total number of women: {len(females)}\\n')\n",
        "print(f'Men with pace less than women: {men_pace_less_than_women} (out of {len(tm_men)} men)')\n",
        "print(f'Women with pace less than men: {women_pace_less_than_men} (out of {len(females)} women)')"
      ]
    },
    {
      "cell_type": "code",
      "execution_count": 16,
      "metadata": {
        "colab": {
          "base_uri": "https://localhost:8080/"
        },
        "id": "VSgR8bWaE02j",
        "outputId": "42190a66-0d1e-407c-fd92-c84811b59dc4"
      },
      "outputs": [
        {
          "name": "stdout",
          "output_type": "stream",
          "text": [
            "Mean pace by age group:\n",
            "For everyone:   division_age      pace\n",
            "0        18-39  5.037818\n",
            "1        40-44  5.134520\n",
            "2        45-49  5.278441\n",
            "3        50-54  5.474871\n",
            "4        55-59  5.652182\n",
            "5        60-64  5.856056\n",
            "6        65-69  6.153434\n",
            "7        70-74  6.557524\n",
            "8        75-79  7.055347\n",
            "9          80+  7.169127\n",
            "For men:   division_age      pace\n",
            "0        18-39  4.678720\n",
            "1        40-44  4.833377\n",
            "2        45-49  5.006103\n",
            "3        50-54  5.269526\n",
            "4        55-59  5.435386\n",
            "5        60-64  5.709755\n",
            "6        65-69  6.022541\n",
            "7        70-74  6.432884\n",
            "8        75-79  7.055151\n",
            "9          80+  7.092989\n",
            "For women:   division_age      pace\n",
            "0        18-39  5.426327\n",
            "1        40-44  5.493871\n",
            "2        45-49  5.615978\n",
            "3        50-54  5.823973\n",
            "4        55-59  6.030443\n",
            "5        60-64  6.164204\n",
            "6        65-69  6.478595\n",
            "7        70-74  6.985721\n",
            "8        75-79  7.056310\n",
            "9          80+  7.283333\n"
          ]
        }
      ],
      "source": [
        "#@title Average pace by age group\n",
        "\n",
        "# for everyone\n",
        "mean_pace_age_group_all = marathon.groupby('division_age')['pace'].mean().reset_index()\n",
        "\n",
        "# for men\n",
        "mean_pace_age_group_men = males.groupby('division_age')['pace'].mean().reset_index()\n",
        "\n",
        "# for women\n",
        "mean_pace_age_group_women = females.groupby('division_age')['pace'].mean().reset_index()\n",
        "\n",
        "print(f'Mean pace by age group:\\nFor everyone: {mean_pace_age_group_all}\\nFor men: {mean_pace_age_group_men}\\nFor women: {mean_pace_age_group_women}')\n"
      ]
    },
    {
      "cell_type": "code",
      "execution_count": 17,
      "metadata": {
        "colab": {
          "base_uri": "https://localhost:8080/",
          "height": 425
        },
        "id": "0utO_H0dp8Ul",
        "outputId": "3d226d11-ead0-432c-fcef-b9ec17e6bf7a"
      },
      "outputs": [
        {
          "data": {
            "image/png": "[encoded data removed]",
            "text/plain": [
              "<Figure size 800x400 with 1 Axes>"
            ]
          },
          "metadata": {},
          "output_type": "display_data"
        }
      ],
      "source": [
        "#@title Average pace by age group and gender\n",
        "\n",
        "# figure and axis\n",
        "fig, ax = plt.subplots(figsize=(10, 5), facecolor='white', dpi=80)\n",
        "\n",
        "# Add vertical bars representing the average pace for women and men\n",
        "ax.vlines(x=mean_pace_age_group_women.index, ymin=0, ymax=mean_pace_age_group_women['pace'], color='lightcoral', alpha=1, linewidth=20, label='Women')\n",
        "ax.vlines(x=mean_pace_age_group_men.index, ymin=0, ymax=mean_pace_age_group_men['pace'], color='skyblue', alpha=0.7, linewidth=20, label='Men')\n",
        "\n",
        "# Horizontal axis parameters\n",
        "plt.xticks(mean_pace_age_group_men.index, mean_pace_age_group_men['division_age'], rotation=60, horizontalalignment='right', fontsize=12)\n",
        "\n",
        "ax.set(ylabel='Pace', ylim=(0, 10))\n",
        "ax.set(xlabel='Age Group Division (indices)')\n",
        "\n",
        "plt.legend()\n",
        "plt.title('Average Pace by Age Group and Gender')\n",
        "plt.show()\n"
      ]
    },
    {
      "cell_type": "markdown",
      "metadata": {
        "id": "Vn4VVXejHZvc"
      },
      "source": [
        "## Pace and Running Teams Analysis 👭\n",
        "### Motivation\n",
        "> - Which team is the fastest?\n",
        "> - Does being part of a team make you faster?\n",
        "> - What is the percentage of runners with and without a team?\n",
        "> - How does the pace differ between runners with and without a team?"
      ]
    },
    {
      "cell_type": "code",
      "execution_count": 18,
      "metadata": {
        "id": "CtQakXP2lfkg"
      },
      "outputs": [],
      "source": [
        "#@title Dividing the population into 2 samples\n",
        "without_team = marathon[marathon['team'] == 'Team–'].reset_index()\n",
        "with_team = marathon[marathon['team'] != 'Team–'].reset_index()"
      ]
    },
    {
      "cell_type": "code",
      "execution_count": 19,
      "metadata": {
        "colab": {
          "base_uri": "https://localhost:8080/",
          "height": 285
        },
        "id": "jWv9j7wm9UXF",
        "outputId": "d3d27c96-025a-4612-855d-220e305e1938"
      },
      "outputs": [
        {
          "data": {
            "text/html": [
              "<div>\n",
              "<style scoped>\n",
              "    .dataframe tbody tr th:only-of-type {\n",
              "        vertical-align: middle;\n",
              "    }\n",
              "\n",
              "    .dataframe tbody tr th {\n",
              "        vertical-align: top;\n",
              "    }\n",
              "\n",
              "    .dataframe thead th {\n",
              "        text-align: right;\n",
              "    }\n",
              "</style>\n",
              "<table border=\"1\" class=\"dataframe\">\n",
              "  <thead>\n",
              "    <tr style=\"text-align: right;\">\n",
              "      <th></th>\n",
              "      <th>index</th>\n",
              "      <th>division_age</th>\n",
              "      <th>overall_position</th>\n",
              "      <th>gender_position</th>\n",
              "      <th>age_group_position</th>\n",
              "      <th>name</th>\n",
              "      <th>team</th>\n",
              "      <th>bib_number</th>\n",
              "      <th>half_marathon_time</th>\n",
              "      <th>net_marathon_time</th>\n",
              "      <th>gross_marathon_time</th>\n",
              "      <th>gender</th>\n",
              "      <th>half_marathon_time_seconds</th>\n",
              "      <th>net_marathon_time_seconds</th>\n",
              "      <th>gross_marathon_time_seconds</th>\n",
              "      <th>net_marathon_time_minutes</th>\n",
              "      <th>pace</th>\n",
              "    </tr>\n",
              "  </thead>\n",
              "  <tbody>\n",
              "    <tr>\n",
              "      <th>0</th>\n",
              "      <td>9</td>\n",
              "      <td>18-39</td>\n",
              "      <td>10</td>\n",
              "      <td>10</td>\n",
              "      <td>10</td>\n",
              "      <td>Mcdonald, Matthew</td>\n",
              "      <td>TeamBoston Athletic Association</td>\n",
              "      <td>24</td>\n",
              "      <td>1H 3M 59S</td>\n",
              "      <td>2H 10M 17S</td>\n",
              "      <td>2H 10M 17S</td>\n",
              "      <td>M</td>\n",
              "      <td>3839.0</td>\n",
              "      <td>7817</td>\n",
              "      <td>7817</td>\n",
              "      <td>130.283333</td>\n",
              "      <td>3.101984</td>\n",
              "    </tr>\n",
              "    <tr>\n",
              "      <th>1</th>\n",
              "      <td>16</td>\n",
              "      <td>18-39</td>\n",
              "      <td>17</td>\n",
              "      <td>17</td>\n",
              "      <td>17</td>\n",
              "      <td>Flavin, Jp</td>\n",
              "      <td>TeamHansons-Brooks Distance Project</td>\n",
              "      <td>48</td>\n",
              "      <td>1H 5M 40S</td>\n",
              "      <td>2H 13M 27S</td>\n",
              "      <td>2H 13M 27S</td>\n",
              "      <td>M</td>\n",
              "      <td>3940.0</td>\n",
              "      <td>8007</td>\n",
              "      <td>8007</td>\n",
              "      <td>133.450000</td>\n",
              "      <td>3.177381</td>\n",
              "    </tr>\n",
              "    <tr>\n",
              "      <th>2</th>\n",
              "      <td>24</td>\n",
              "      <td>18-39</td>\n",
              "      <td>25</td>\n",
              "      <td>25</td>\n",
              "      <td>25</td>\n",
              "      <td>Hampton, Jonas</td>\n",
              "      <td>TeamBoston Athletic Association</td>\n",
              "      <td>28</td>\n",
              "      <td>1H 5M 33S</td>\n",
              "      <td>2H 17M 5S</td>\n",
              "      <td>2H 17M 5S</td>\n",
              "      <td>M</td>\n",
              "      <td>3933.0</td>\n",
              "      <td>8225</td>\n",
              "      <td>8225</td>\n",
              "      <td>137.083333</td>\n",
              "      <td>3.263889</td>\n",
              "    </tr>\n",
              "  </tbody>\n",
              "</table>\n",
              "</div>"
            ],
            "text/plain": [
              "   index division_age  overall_position  gender_position  age_group_position  \\\n",
              "0      9        18-39                10               10                  10   \n",
              "1     16        18-39                17               17                  17   \n",
              "2     24        18-39                25               25                  25   \n",
              "\n",
              "                name                                 team bib_number  \\\n",
              "0  Mcdonald, Matthew      TeamBoston Athletic Association         24   \n",
              "1         Flavin, Jp  TeamHansons-Brooks Distance Project         48   \n",
              "2     Hampton, Jonas      TeamBoston Athletic Association         28   \n",
              "\n",
              "  half_marathon_time net_marathon_time gross_marathon_time gender  \\\n",
              "0          1H 3M 59S        2H 10M 17S          2H 10M 17S      M   \n",
              "1          1H 5M 40S        2H 13M 27S          2H 13M 27S      M   \n",
              "2          1H 5M 33S         2H 17M 5S           2H 17M 5S      M   \n",
              "\n",
              "   half_marathon_time_seconds  net_marathon_time_seconds  \\\n",
              "0                      3839.0                       7817   \n",
              "1                      3940.0                       8007   \n",
              "2                      3933.0                       8225   \n",
              "\n",
              "   gross_marathon_time_seconds  net_marathon_time_minutes      pace  \n",
              "0                         7817                 130.283333  3.101984  \n",
              "1                         8007                 133.450000  3.177381  \n",
              "2                         8225                 137.083333  3.263889  "
            ]
          },
          "execution_count": 19,
          "metadata": {},
          "output_type": "execute_result"
        }
      ],
      "source": [
        "#@title 1st Sample - Runners with team\n",
        "with_team.head(3)"
      ]
    },
    {
      "cell_type": "code",
      "execution_count": 20,
      "metadata": {
        "colab": {
          "base_uri": "https://localhost:8080/",
          "height": 216
        },
        "id": "HHBXODjFELGO",
        "outputId": "e4e3a8cd-d5d8-4d4d-f20c-33068484d33d"
      },
      "outputs": [
        {
          "data": {
            "text/html": [
              "<div>\n",
              "<style scoped>\n",
              "    .dataframe tbody tr th:only-of-type {\n",
              "        vertical-align: middle;\n",
              "    }\n",
              "\n",
              "    .dataframe tbody tr th {\n",
              "        vertical-align: top;\n",
              "    }\n",
              "\n",
              "    .dataframe thead th {\n",
              "        text-align: right;\n",
              "    }\n",
              "</style>\n",
              "<table border=\"1\" class=\"dataframe\">\n",
              "  <thead>\n",
              "    <tr style=\"text-align: right;\">\n",
              "      <th></th>\n",
              "      <th>index</th>\n",
              "      <th>division_age</th>\n",
              "      <th>overall_position</th>\n",
              "      <th>gender_position</th>\n",
              "      <th>age_group_position</th>\n",
              "      <th>name</th>\n",
              "      <th>team</th>\n",
              "      <th>bib_number</th>\n",
              "      <th>half_marathon_time</th>\n",
              "      <th>net_marathon_time</th>\n",
              "      <th>gross_marathon_time</th>\n",
              "      <th>gender</th>\n",
              "      <th>half_marathon_time_seconds</th>\n",
              "      <th>net_marathon_time_seconds</th>\n",
              "      <th>gross_marathon_time_seconds</th>\n",
              "      <th>net_marathon_time_minutes</th>\n",
              "      <th>pace</th>\n",
              "    </tr>\n",
              "  </thead>\n",
              "  <tbody>\n",
              "    <tr>\n",
              "      <th>0</th>\n",
              "      <td>0</td>\n",
              "      <td>18-39</td>\n",
              "      <td>1</td>\n",
              "      <td>1</td>\n",
              "      <td>1</td>\n",
              "      <td>Chebet, Evans</td>\n",
              "      <td>Team–</td>\n",
              "      <td>1</td>\n",
              "      <td>1H 2M 20S</td>\n",
              "      <td>2H 5M 54S</td>\n",
              "      <td>2H 5M 54S</td>\n",
              "      <td>M</td>\n",
              "      <td>3740.0</td>\n",
              "      <td>7554</td>\n",
              "      <td>7554</td>\n",
              "      <td>125.900000</td>\n",
              "      <td>2.997619</td>\n",
              "    </tr>\n",
              "    <tr>\n",
              "      <th>1</th>\n",
              "      <td>1</td>\n",
              "      <td>18-39</td>\n",
              "      <td>2</td>\n",
              "      <td>2</td>\n",
              "      <td>2</td>\n",
              "      <td>Geay, Gabriel</td>\n",
              "      <td>Team–</td>\n",
              "      <td>3</td>\n",
              "      <td>1H 2M 20S</td>\n",
              "      <td>2H 6M 4S</td>\n",
              "      <td>2H 6M 4S</td>\n",
              "      <td>M</td>\n",
              "      <td>3740.0</td>\n",
              "      <td>7564</td>\n",
              "      <td>7564</td>\n",
              "      <td>126.066667</td>\n",
              "      <td>3.001587</td>\n",
              "    </tr>\n",
              "    <tr>\n",
              "      <th>2</th>\n",
              "      <td>2</td>\n",
              "      <td>18-39</td>\n",
              "      <td>3</td>\n",
              "      <td>3</td>\n",
              "      <td>3</td>\n",
              "      <td>Kipruto, Benson</td>\n",
              "      <td>Team–</td>\n",
              "      <td>5</td>\n",
              "      <td>1H 2M 19S</td>\n",
              "      <td>2H 6M 6S</td>\n",
              "      <td>2H 6M 6S</td>\n",
              "      <td>M</td>\n",
              "      <td>3739.0</td>\n",
              "      <td>7566</td>\n",
              "      <td>7566</td>\n",
              "      <td>126.100000</td>\n",
              "      <td>3.002381</td>\n",
              "    </tr>\n",
              "  </tbody>\n",
              "</table>\n",
              "</div>"
            ],
            "text/plain": [
              "   index division_age  overall_position  gender_position  age_group_position  \\\n",
              "0      0        18-39                 1                1                   1   \n",
              "1      1        18-39                 2                2                   2   \n",
              "2      2        18-39                 3                3                   3   \n",
              "\n",
              "              name   team bib_number half_marathon_time net_marathon_time  \\\n",
              "0    Chebet, Evans  Team–          1          1H 2M 20S         2H 5M 54S   \n",
              "1    Geay, Gabriel  Team–          3          1H 2M 20S          2H 6M 4S   \n",
              "2  Kipruto, Benson  Team–          5          1H 2M 19S          2H 6M 6S   \n",
              "\n",
              "  gross_marathon_time gender  half_marathon_time_seconds  \\\n",
              "0           2H 5M 54S      M                      3740.0   \n",
              "1            2H 6M 4S      M                      3740.0   \n",
              "2            2H 6M 6S      M                      3739.0   \n",
              "\n",
              "   net_marathon_time_seconds  gross_marathon_time_seconds  \\\n",
              "0                       7554                         7554   \n",
              "1                       7564                         7564   \n",
              "2                       7566                         7566   \n",
              "\n",
              "   net_marathon_time_minutes      pace  \n",
              "0                 125.900000  2.997619  \n",
              "1                 126.066667  3.001587  \n",
              "2                 126.100000  3.002381  "
            ]
          },
          "execution_count": 20,
          "metadata": {},
          "output_type": "execute_result"
        }
      ],
      "source": [
        "#@title 2nd Sample - Runners without team\n",
        "without_team.head(3)"
      ]
    },
    {
      "cell_type": "code",
      "execution_count": 21,
      "metadata": {
        "colab": {
          "base_uri": "https://localhost:8080/"
        },
        "id": "4A98EvaIrdo_",
        "outputId": "05ea3652-02cc-42ea-85e1-8092b821d2ca"
      },
      "outputs": [
        {
          "name": "stdout",
          "output_type": "stream",
          "text": [
            "Number of teams: 85\n"
          ]
        }
      ],
      "source": [
        "#@title Number of teams\n",
        "num_teams = with_team['team'].nunique()\n",
        "print('Number of teams:', num_teams)"
      ]
    },
    {
      "cell_type": "code",
      "execution_count": 22,
      "metadata": {
        "colab": {
          "base_uri": "https://localhost:8080/"
        },
        "id": "hscW3oI_3GUQ",
        "outputId": "7a3bcbda-7f7c-4739-9bf1-f2c302de8075"
      },
      "outputs": [
        {
          "data": {
            "text/plain": [
              "team\n",
              "TeamTracksmith Boston Hares        46\n",
              "TeamMisty Mountain Runners         43\n",
              "TeamCharlotte Running Club         42\n",
              "TeamBoston Athletic Association    41\n",
              "TeamSan Diego Track Club           40\n",
              "Name: count, dtype: int64"
            ]
          },
          "execution_count": 22,
          "metadata": {},
          "output_type": "execute_result"
        }
      ],
      "source": [
        "#@title Teams with the most runners\n",
        "\n",
        "with_team['team'].value_counts().head()\n"
      ]
    },
    {
      "cell_type": "code",
      "execution_count": 23,
      "metadata": {
        "colab": {
          "base_uri": "https://localhost:8080/"
        },
        "id": "gNsPH-WBNJLX",
        "outputId": "dfb2e4b9-0293-4fce-8876-477c8661531f"
      },
      "outputs": [
        {
          "name": "stdout",
          "output_type": "stream",
          "text": [
            "Number of runners\n",
            "With team: 1257\n",
            "Without team: 25092\n"
          ]
        }
      ],
      "source": [
        "#@title Number of runners with and without a team\n",
        "# with team\n",
        "num_runners_with_team = with_team['name'].nunique()\n",
        "\n",
        "# without team\n",
        "num_runners_without_team = without_team['name'].nunique()\n",
        "\n",
        "print(f'Number of runners\\nWith team: {num_runners_with_team}\\nWithout team: {num_runners_without_team}')"
      ]
    },
    {
      "cell_type": "code",
      "execution_count": 24,
      "metadata": {
        "colab": {
          "base_uri": "https://localhost:8080/",
          "height": 444
        },
        "id": "bbLgcui6QX-7",
        "outputId": "4d9e5149-a9c7-40c2-b5fa-d29bca1e227a"
      },
      "outputs": [
        {
          "data": {
            "image/png": "[encoded data removed]",
            "text/plain": [
              "<Figure size 500x500 with 1 Axes>"
            ]
          },
          "metadata": {},
          "output_type": "display_data"
        }
      ],
      "source": [
        "#@title Frequency of runners with and without a team\n",
        "\n",
        "# New dataframe for counting runners with and without a team\n",
        "frequency_df = pd.DataFrame({'Frequency': [num_runners_without_team, num_runners_with_team]},\n",
        "                             index=['Without Team', 'With Team'])\n",
        "\n",
        "# Pie chart setup\n",
        "frequency_df['Frequency'].plot(kind='pie', autopct='%1.1f%%', startangle=90, figsize=(5, 5),\n",
        "                                labels=frequency_df.index, colors=['plum', 'aquamarine'], wedgeprops=dict(width=0.3))\n",
        "\n",
        "# Graph labels\n",
        "plt.title(\"Frequency of Runners With and Without a Team\")\n",
        "plt.ylabel(\"\")\n",
        "\n",
        "# Show plot\n",
        "plt.show()"
      ]
    },
    {
      "cell_type": "code",
      "execution_count": 25,
      "metadata": {
        "colab": {
          "base_uri": "https://localhost:8080/"
        },
        "id": "8L_oj7bcm0c-",
        "outputId": "10452111-e555-4cd6-a86b-659ec8d679ca"
      },
      "outputs": [
        {
          "name": "stdout",
          "output_type": "stream",
          "text": [
            "Average Pace\n",
            "With team: 4.8352736139500845\n",
            "Without team: 5.321045667806716\n"
          ]
        }
      ],
      "source": [
        "#@title Average pace runners with and without team\n",
        "mean_pace_with_team = with_team['pace'].mean()\n",
        "mean_pace_without_team = without_team['pace'].mean()\n",
        "\n",
        "print(f'Average Pace\\nWith team: {mean_pace_with_team}\\nWithout team: {mean_pace_without_team}')\n"
      ]
    },
    {
      "cell_type": "code",
      "execution_count": 26,
      "metadata": {
        "colab": {
          "base_uri": "https://localhost:8080/",
          "height": 496
        },
        "id": "TF1Muy1IX1ux",
        "outputId": "66182342-3fa2-4fb4-876d-9fd5a14fc378"
      },
      "outputs": [
        {
          "data": {
            "image/png": "[encoded data removed]",
            "text/plain": [
              "<Figure size 800x500 with 1 Axes>"
            ]
          },
          "metadata": {},
          "output_type": "display_data"
        }
      ],
      "source": [
        "#@title Pace density with and without a team\n",
        "\n",
        "# Graph setup\n",
        "plt.figure(figsize=(8, 5))\n",
        "\n",
        "# Normalize histograms\n",
        "sns.histplot(with_team['pace'], color='plum', alpha=0.75, label='With Team', kde=True, stat='density')\n",
        "sns.histplot(without_team['pace'], color='aquamarine', alpha=0.75, label='Without Team', kde=True, stat='density')\n",
        "\n",
        "# Graph labels\n",
        "plt.xlabel('Pace')\n",
        "plt.ylabel('Density')\n",
        "plt.title(\"Pace of Runners With and Without a Team\")\n",
        "plt.legend()\n",
        "plt.show()\n"
      ]
    },
    {
      "cell_type": "code",
      "execution_count": 27,
      "metadata": {
        "colab": {
          "base_uri": "https://localhost:8080/"
        },
        "id": "5N2FoQGhOKAR",
        "outputId": "9e448132-e8ff-4b40-f5d2-8c84e899cb67"
      },
      "outputs": [
        {
          "name": "stdout",
          "output_type": "stream",
          "text": [
            "                                       team      pace\n",
            "0                      TeamAl-limite Mexico  4.806587\n",
            "1                  TeamAnn Arbor Track Club  4.119048\n",
            "2                      TeamBEN Running Club  4.726401\n",
            "3                TeamBakersfield Greyhounds  4.803968\n",
            "4                TeamBattle Road Track Club  4.188889\n",
            "..                                      ...       ...\n",
            "81         TeamWinner's Circle Running Club  5.509776\n",
            "82                TeamWolfpack Running Club  4.406746\n",
            "83  TeamYellowstone Valley Distance Project  4.637302\n",
            "84               Teamsan Luis Distance Club  5.770679\n",
            "85                                    Team–  5.321046\n",
            "\n",
            "[86 rows x 2 columns]\n"
          ]
        }
      ],
      "source": [
        "#@title Average pace per team\n",
        "team_paces = marathon.groupby('team')['pace'].mean().reset_index()\n",
        "print(team_paces)\n"
      ]
    },
    {
      "cell_type": "code",
      "execution_count": 28,
      "metadata": {
        "colab": {
          "base_uri": "https://localhost:8080/"
        },
        "id": "pmpmRS2nqktI",
        "outputId": "0274a692-026b-4ad7-dfe9-c1503a1dce79"
      },
      "outputs": [
        {
          "name": "stdout",
          "output_type": "stream",
          "text": [
            "Average Pace by Age Group\n",
            "With Team:   division_age      pace\n",
            "0        18-39  4.386089\n",
            "1        40-44  4.674372\n",
            "2        45-49  4.959868\n",
            "3        50-54  5.086252\n",
            "4        55-59  5.353505\n",
            "5        60-64  5.537228\n",
            "6        65-69  6.043264\n",
            "7        70-74  6.847192\n",
            "8        75-79  7.345337\n",
            "Without Team:   division_age      pace\n",
            "0        18-39  5.069756\n",
            "1        40-44  5.159612\n",
            "2        45-49  5.293357\n",
            "3        50-54  5.495728\n",
            "4        55-59  5.664702\n",
            "5        60-64  5.871578\n",
            "6        65-69  6.159312\n",
            "7        70-74  6.543151\n",
            "8        75-79  7.034257\n",
            "9          80+  7.169127\n"
          ]
        }
      ],
      "source": [
        "#@title Average pace by age group for runners with and without a team\n",
        "mean_pace_age_group_with_team = with_team.groupby('division_age')['pace'].mean().reset_index()\n",
        "mean_pace_age_group_without_team = without_team.groupby('division_age')['pace'].mean().reset_index()\n",
        "\n",
        "print(f'Average Pace by Age Group\\nWith Team: {mean_pace_age_group_with_team}\\nWithout Team: {mean_pace_age_group_without_team}')\n"
      ]
    },
    {
      "cell_type": "code",
      "execution_count": 29,
      "metadata": {
        "colab": {
          "base_uri": "https://localhost:8080/"
        },
        "id": "GSohgWWnoRsg",
        "outputId": "744020bf-467c-4c29-9e5f-fe3214982523"
      },
      "outputs": [
        {
          "name": "stdout",
          "output_type": "stream",
          "text": [
            "With Team: division_age\n",
            "18-39    475\n",
            "40-44    213\n",
            "45-49    182\n",
            "50-54    166\n",
            "55-59     90\n",
            "60-64     76\n",
            "65-69     39\n",
            "70-74     13\n",
            "75-79      4\n",
            "Name: count, dtype: int64\n",
            "Without Team: division_age\n",
            "18-39    9693\n",
            "40-44    3906\n",
            "45-49    3887\n",
            "50-54    3093\n",
            "55-59    2147\n",
            "60-64    1561\n",
            "65-69     731\n",
            "70-74     262\n",
            "75-79      55\n",
            "80+         5\n",
            "Name: count, dtype: int64\n"
          ]
        }
      ],
      "source": [
        "#@title Count of runners by age group with/without team\n",
        "num_divisions_with_team = with_team['division_age'].value_counts()\n",
        "num_divisions_without_team = without_team['division_age'].value_counts()\n",
        "\n",
        "print(f\"With Team: {num_divisions_with_team}\\nWithout Team: {num_divisions_without_team}\")"
      ]
    },
    {
      "cell_type": "code",
      "execution_count": 30,
      "metadata": {
        "colab": {
          "base_uri": "https://localhost:8080/",
          "height": 425
        },
        "id": "xroVGSWTsSHu",
        "outputId": "3d64a55d-dec2-4957-9d21-49ae0f977cfd"
      },
      "outputs": [
        {
          "data": {
            "image/png": "[encoded data removed]",
            "text/plain": [
              "<Figure size 800x400 with 1 Axes>"
            ]
          },
          "metadata": {},
          "output_type": "display_data"
        }
      ],
      "source": [
        "#@title Average pace by age group with/without team\n",
        "# Graph setup\n",
        "fig, ax = plt.subplots(figsize=(10, 5), facecolor='white', dpi=80)\n",
        "\n",
        "# Vertical bars with average pace\n",
        "## without team\n",
        "ax.vlines(x=mean_pace_age_group_without_team.index, ymin=0, ymax=mean_pace_age_group_without_team['pace'], color='plum', alpha=0.7, linewidth=20, label='Without Team')\n",
        "## with team\n",
        "ax.vlines(x=mean_pace_age_group_with_team.index, ymin=0, ymax=mean_pace_age_group_with_team['pace'], color='aquamarine', alpha=0.7, linewidth=20, label='With Team')\n",
        "\n",
        "# Labels\n",
        "plt.xticks(mean_pace_age_group_with_team.index, mean_pace_age_group_with_team['division_age'], rotation=60, fontsize=12)\n",
        "ax.set(ylabel='Pace', ylim=(0, 10))\n",
        "ax.set(xlabel='Age Group Division (indices)')\n",
        "plt.legend()\n",
        "plt.title('Average Pace by Age Group and With/Without Team')\n",
        "\n",
        "# Show plot\n",
        "plt.show()\n",
        "\n"
      ]
    },
    {
      "cell_type": "markdown",
      "metadata": {
        "id": "dym8C9Z_JEj_"
      },
      "source": [
        "## Conclusion ✨"
      ]
    },
    {
      "cell_type": "markdown",
      "metadata": {
        "id": "5jb-UdFiWFM_"
      },
      "source": [
        "### Performance by genre 👩‍  👨‍  \n",
        "\n",
        ">- **Difference in Pace:** In general, men had a slower pace compared to women, indicating that, on average, men in this marathon were faster.\n",
        ">- **Greater Male Participation:** The marathon had a greater participation of men compared to women."
      ]
    },
    {
      "cell_type": "markdown",
      "metadata": {
        "id": "tDSCMSFuudzw"
      },
      "source": [
        "### Team Performance 👭\n",
        "\n",
        "\n",
        ">- **Teams have a lower pace:** The analysis shows that runners who are part of teams had a lower pace than those without a team. This may be related to specialized training and that the presence of a team can positively influence performance.\n",
        ">- **Running and Longevity:** In the 50-54 age group, there is a reduction in the number of runners. It may be related to the risk of injury and changing priorities."
      ]
    },
    {
      "cell_type": "code",
      "execution_count": 31,
      "metadata": {
        "id": "aDZgmZyGr8x_"
      },
      "outputs": [],
      "source": [
        "#@title Men, women, with and without a team\n",
        "# Filtering data for men\n",
        "men_with_team = marathon[(marathon['team'] != 'Team–') & (marathon['gender'] == 'M')].reset_index()\n",
        "men_without_team = marathon[(marathon['team'] == 'Team–') & (marathon['gender'] == 'M')].reset_index()\n",
        "\n",
        "# Filtering data for women\n",
        "women_with_team = marathon[(marathon['team'] != 'Team–') & (marathon['gender'] == 'W')].reset_index()\n",
        "women_without_team = marathon[(marathon['team'] == 'Team–') & (marathon['gender'] == 'W')].reset_index()"
      ]
    },
    {
      "cell_type": "code",
      "execution_count": 32,
      "metadata": {
        "colab": {
          "base_uri": "https://localhost:8080/",
          "height": 573
        },
        "id": "7YBztd2rEAMw",
        "outputId": "aa8b06a7-0696-4bb6-85e7-3c657fc46d5c"
      },
      "outputs": [
        {
          "name": "stderr",
          "output_type": "stream",
          "text": [
            "C:\\Users\\Luiza\\AppData\\Local\\Temp\\ipykernel_1460\\13190892.py:19: FutureWarning: \n",
            "\n",
            "Passing `palette` without assigning `hue` is deprecated and will be removed in v0.14.0. Assign the `y` variable to `hue` and set `legend=False` for the same effect.\n",
            "\n",
            "  sns.barplot(x='Average Pace', y='Category', data=pace_data, palette='pastel')\n"
          ]
        },
        {
          "data": {
            "image/png": "[encoded data removed]",
            "text/plain": [
              "<Figure size 800x600 with 1 Axes>"
            ]
          },
          "metadata": {},
          "output_type": "display_data"
        }
      ],
      "source": [
        "#@title Graphic with gender and team relationship\n",
        "# Average pace for each category\n",
        "mean_pace_men_with_team = men_with_team['pace'].mean()\n",
        "mean_pace_men_without_team = men_without_team['pace'].mean()\n",
        "mean_pace_women_with_team = women_with_team['pace'].mean()\n",
        "mean_pace_women_without_team = women_without_team['pace'].mean()\n",
        "\n",
        "# New dataframe with results\n",
        "pace_data = pd.DataFrame({\n",
        "    'Category': ['Men with Team', 'Men without Team', 'Women with Team', 'Women without Team'],\n",
        "    'Average Pace': [mean_pace_men_with_team, mean_pace_men_without_team, mean_pace_women_with_team, mean_pace_women_without_team]\n",
        "})\n",
        "\n",
        "# Graph setup\n",
        "plt.figure(figsize=(8, 6))\n",
        "sns.set(style=\"whitegrid\")\n",
        "\n",
        "# Bar plot\n",
        "sns.barplot(x='Average Pace', y='Category', data=pace_data, palette='pastel')\n",
        "\n",
        "# Graph labels\n",
        "plt.title('Average Pace by Category')\n",
        "plt.xlabel('Average Pace')\n",
        "plt.ylabel('Category')\n",
        "\n",
        "# Show the graph\n",
        "plt.show()\n",
        "\n"
      ]
    },
    {
      "cell_type": "code",
      "execution_count": 33,
      "metadata": {
        "colab": {
          "base_uri": "https://localhost:8080/"
        },
        "id": "AfTa2vXLrL-A",
        "outputId": "aba6d560-f1a8-43c3-d987-f4b55107d4e4"
      },
      "outputs": [
        {
          "name": "stdout",
          "output_type": "stream",
          "text": [
            "Average Pace\n",
            "Men with team: 4.557699949504928\n",
            "Men without team: 5.082760720765841\n",
            "Women with team: 5.210387182910547\n",
            "Women without team: 5.637329104125118\n"
          ]
        }
      ],
      "source": [
        "#@title Pace values ​​by category\n",
        "print(f'Average Pace\\nMen with team: {mean_pace_men_with_team}\\nMen without team: {mean_pace_men_without_team}\\nWomen with team: {mean_pace_women_with_team}\\nWomen without team: {mean_pace_women_without_team}')"
      ]
    }
  ],
  "metadata": {
    "colab": {
      "provenance": [],
      "toc_visible": true
    },
    "kernelspec": {
      "display_name": "Python 3",
      "name": "python3"
    },
    "language_info": {
      "codemirror_mode": {
        "name": "ipython",
        "version": 3
      },
      "file_extension": ".py",
      "mimetype": "text/x-python",
      "name": "python",
      "nbconvert_exporter": "python",
      "pygments_lexer": "ipython3",
      "version": "3.10.11"
    }
  },
  "nbformat": 4,
  "nbformat_minor": 0
}
